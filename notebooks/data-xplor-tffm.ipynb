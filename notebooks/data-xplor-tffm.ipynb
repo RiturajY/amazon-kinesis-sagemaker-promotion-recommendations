{
 "cells": [
  {
   "cell_type": "markdown",
   "metadata": {},
   "source": [
    "# Purpose\n",
    "\n",
    "This notebook develops a model to predict whether a \n",
    "certain promotional offer will motivate buying behavior on an e-commerce site.\n",
    "\n",
    "In this notebook, we take a small set of the raw input, transform it,\n",
    "and then work with a field-aware factorization machine (FFM) model directly."
   ]
  },
  {
   "cell_type": "markdown",
   "metadata": {},
   "source": [
    "## Data set\n",
    "\n",
    "The data set is from the [Kasandr UCI data set](https://archive.ics.uci.edu/ml/datasets/KASANDR#).  This is a public data set.  Per the attribution policies, we cite the following paper for this data set:\n",
    "\n",
    "    Sumit Sidana, Charlotte Laclau, Massih-Reza Amini, Gilles Vandelle, and Andre Bois-Crettez. 'KASANDR: A Large-Scale Dataset with Implicit Feedback for Recommendation', SIGIR 2017. \n",
    "\n",
    "The data set is already divided into train and test sets.  The train set has 15,844,718 samples.  The test set has 1,919,562 samples.  That's a total of 17,764,280 samples, with a 90/10 train/test split.\n",
    "\n",
    "The schema is:\n",
    "\n",
    "* Features\n",
    "    * userid: Categorical\n",
    "    * offerid: Categorical\n",
    "    * countrycode: Categorical\n",
    "    * category: Integer (but seems to be encoded, so we'll treat it as categorical)\n",
    "    * merchant: Integer (but seems to be encoded, so we'll treat it as categorical)\n",
    "    * utcdate: Timestamp, format '2016-06-01 02:00:17.0'\n",
    "*  Label: promotion generated response: Binary, 0 or 1 \n",
    "\n",
    "The country code is not useful, as the entire data set is for Germany."
   ]
  },
  {
   "cell_type": "code",
   "execution_count": 2,
   "metadata": {},
   "outputs": [
    {
     "name": "stderr",
     "output_type": "stream",
     "text": [
      "/home/ec2-user/anaconda3/envs/python2/lib/python2.7/site-packages/h5py/__init__.py:36: FutureWarning: Conversion of the second argument of issubdtype from `float` to `np.floating` is deprecated. In future, it will be treated as `np.float64 == np.dtype(float).type`.\n",
      "  from ._conv import register_converters as _register_converters\n"
     ]
    }
   ],
   "source": [
    "# Imports\n",
    "import boto3\n",
    "import sagemaker\n",
    "import sagemaker.amazon.common as smac\n",
    "from sagemaker.predictor import json_deserializer\n",
    "from sagemaker import get_execution_role\n",
    "\n",
    "import numpy as np\n",
    "from scipy.sparse import lil_matrix\n",
    "import pandas as pd\n",
    "from collections import Counter\n",
    "from sklearn.model_selection import train_test_split\n",
    "import scipy\n",
    "from sklearn.metrics import mean_squared_error\n",
    "from sklearn.metrics import f1_score\n",
    "\n",
    "from tffm import TFFMRegressor\n",
    "import tensorflow as tf\n",
    "\n",
    "import os.path\n",
    "import csv, io, json"
   ]
  },
  {
   "cell_type": "code",
   "execution_count": 3,
   "metadata": {},
   "outputs": [],
   "source": [
    "# Bucket with raw data\n",
    "bucket = 'promo-dataprep'\n",
    "prefix = 'data'\n",
    "train_file = 'train_de.csv'\n",
    "test_file = 'test_de.csv'"
   ]
  },
  {
   "cell_type": "code",
   "execution_count": 4,
   "metadata": {},
   "outputs": [
    {
     "name": "stdout",
     "output_type": "stream",
     "text": [
      "train_de.csv already exists, skipping\n",
      "test_de.csv already exists, skipping\n"
     ]
    }
   ],
   "source": [
    "# set up boto for s3 access\n",
    "role = get_execution_role()\n",
    "s3 = boto3.resource('s3')\n",
    "\n",
    "# download inputs\n",
    "if os.path.isfile(train_file) and os.path.exists(train_file):\n",
    "    print(\"{0} already exists, skipping\".format(train_file))\n",
    "else:\n",
    "    s3.Bucket(bucket).download_file(\"{0}/{1}\".format(prefix, train_file), train_file)\n",
    "if os.path.isfile(test_file) and os.path.exists(test_file):\n",
    "    print(\"{0} already exists, skipping\".format(test_file))\n",
    "else:\n",
    "    s3.Bucket(bucket).download_file(\"{0}/{1}\".format(prefix, test_file), test_file)"
   ]
  },
  {
   "cell_type": "markdown",
   "metadata": {},
   "source": [
    "## Read CSV data"
   ]
  },
  {
   "cell_type": "code",
   "execution_count": 5,
   "metadata": {},
   "outputs": [
    {
     "name": "stdout",
     "output_type": "stream",
     "text": [
      "Read train data\n",
      "Read test data\n"
     ]
    }
   ],
   "source": [
    "# read train data set\n",
    "train_df = pd.read_csv(train_file,\n",
    "                       parse_dates = {'utcdate' : [5, 6]}, infer_datetime_format=True,\n",
    "                       skiprows = 1, sep='\\s+', \n",
    "                       header = None, names = ['userid', 'offerid', 'countrycode', 'category', 'merchant', 'date0', 'date1', 'rating'],\n",
    "                       dtype={'userid': 'category', 'offerid': 'category', 'countrycode': 'category',\n",
    "                                     'category': 'category', 'merchant': 'category', \n",
    "                                     'date0': 'str', 'date1': 'str', 'utcdate': 'datetime64', 'rating': 'int64'})\n",
    "print(\"Read train data\")\n",
    "\n",
    "# read test data set\n",
    "test_df = pd.read_csv(test_file,\n",
    "                       parse_dates = {'utcdate' : [5, 6]}, infer_datetime_format=True,\n",
    "                       skiprows = 1, sep='\\s+', \n",
    "                       header = None, names = ['userid', 'offerid', 'countrycode', 'category', 'merchant', 'date0', 'date1', 'rating'],\n",
    "                       dtype={'userid': 'category', 'offerid': 'category', 'countrycode': 'category',\n",
    "                                     'category': 'category', 'merchant': 'category', \n",
    "                                     'date0': 'str', 'date1': 'str', 'utcdate': 'datetime64', 'rating': 'int64'})\n",
    "print(\"Read test data\")"
   ]
  },
  {
   "cell_type": "markdown",
   "metadata": {},
   "source": [
    "## Preparation"
   ]
  },
  {
   "cell_type": "code",
   "execution_count": 6,
   "metadata": {
    "scrolled": true
   },
   "outputs": [
    {
     "data": {
      "text/plain": [
       "userid         category\n",
       "offerid        category\n",
       "countrycode    category\n",
       "category       category\n",
       "product        category\n",
       "label             int64\n",
       "dtype: object"
      ]
     },
     "execution_count": 6,
     "metadata": {},
     "output_type": "execute_result"
    }
   ],
   "source": [
    "# drop timestamp\n",
    "train_df_for_model = train_df.drop('utcdate', 1)\n",
    "test_df_for_model = test_df.drop('utcdate', 1)\n",
    "\n",
    "# rename label\n",
    "train_df_for_model = train_df_for_model.rename(columns={\"rating\": \"label\"})\n",
    "test_df_for_model = test_df_for_model.rename(columns={\"rating\": \"label\"})\n",
    "\n",
    "# rename merchant to product\n",
    "train_df_for_model = train_df_for_model.rename(columns={\"merchant\": \"product\"})\n",
    "test_df_for_model = test_df_for_model.rename(columns={\"merchant\": \"product\"})\n",
    "\n",
    "train_df_for_model.dtypes"
   ]
  },
  {
   "cell_type": "code",
   "execution_count": 7,
   "metadata": {},
   "outputs": [
    {
     "name": "stdout",
     "output_type": "stream",
     "text": [
      "Size of merged data: (17764278, 6)\n"
     ]
    }
   ],
   "source": [
    "# encode data - merge first so the encoding is done consistently\n",
    "merged_data = pd.concat([train_df_for_model, test_df_for_model], ignore_index=True)\n",
    "print(\"Size of merged data: {0}\".format(merged_data.shape))"
   ]
  },
  {
   "cell_type": "code",
   "execution_count": 8,
   "metadata": {},
   "outputs": [
    {
     "name": "stdout",
     "output_type": "stream",
     "text": [
      "Size of transformed data: (50000, 62521)\n"
     ]
    }
   ],
   "source": [
    "# take first 50,000 rows to avoid memory issues\n",
    "transformed_data = pd.get_dummies(merged_data.sample(50000))\n",
    "print(\"Size of transformed data: {0}\".format(transformed_data.shape))"
   ]
  },
  {
   "cell_type": "code",
   "execution_count": 9,
   "metadata": {},
   "outputs": [
    {
     "name": "stdout",
     "output_type": "stream",
     "text": [
      "Size of training data: (40000, 62520) ((40000,))\n",
      "Size of test data: (10000, 62520) ((10000,))\n",
      "Size of sparse training data: (40000, 62520) ((10000,))\n",
      "Size of sparse test data: (10000, 62520) ((10000,))\n"
     ]
    }
   ],
   "source": [
    "y = np.array(transformed_data['label'].astype('float32').as_matrix())\n",
    "\n",
    "# drop label - we store this separately as the output label\n",
    "transformed_data.drop(['label'], 1, inplace=True)\n",
    "\n",
    "X = np.array(transformed_data).astype('float32')\n",
    "X = np.nan_to_num(X)\n",
    "\n",
    "# Split data into train, test\n",
    "X_tr, X_te, y_tr, y_te = train_test_split(X, y, test_size=0.2)\n",
    "print(\"Size of training data: {0} ({1})\".format(X_tr.shape, y_tr.shape))\n",
    "print(\"Size of test data: {0} ({1})\".format(X_te.shape, y_te.shape))\n",
    "\n",
    "# convert to sparse matrix\n",
    "X_tr_sparse = scipy.sparse.csr_matrix(X_tr)\n",
    "X_te_sparse = scipy.sparse.csr_matrix(X_te)\n",
    "print(\"Size of sparse training data: {0} ({1})\".format(X_tr_sparse.shape, y_te.shape))\n",
    "print(\"Size of sparse test data: {0} ({1})\".format(X_te_sparse.shape, y_te.shape))"
   ]
  },
  {
   "cell_type": "code",
   "execution_count": 10,
   "metadata": {},
   "outputs": [
    {
     "name": "stdout",
     "output_type": "stream",
     "text": [
      "S3 training data: s3://promo-dataprep/train-small/train.protobuf\n",
      "S3 test data: s3://promo-dataprep/train-small/test.protobuf\n"
     ]
    }
   ],
   "source": [
    "# convert to protobuf and save to s3\n",
    "def writeDatasetToProtobuf(X, Y, bucket, prefix, key):\n",
    "    buf = io.BytesIO()\n",
    "    smac.write_spmatrix_to_sparse_tensor(buf, X, Y)\n",
    "    buf.seek(0)\n",
    "    obj = '{}/{}'.format(prefix, key)\n",
    "    boto3.resource('s3').Bucket(bucket).Object(obj).upload_fileobj(buf)\n",
    "    return 's3://{}/{}'.format(bucket,obj)\n",
    "    \n",
    "train_data = writeDatasetToProtobuf(X_tr_sparse, y_tr, bucket, 'train-small', 'train.protobuf')    \n",
    "test_data  = writeDatasetToProtobuf(X_te_sparse, y_te, bucket, 'train-small', 'test.protobuf')   \n",
    "print(\"S3 training data: {0}\".format(train_data))\n",
    "print(\"S3 test data: {0}\".format(test_data))"
   ]
  },
  {
   "cell_type": "markdown",
   "metadata": {},
   "source": [
    "## Train model"
   ]
  },
  {
   "cell_type": "code",
   "execution_count": 11,
   "metadata": {},
   "outputs": [
    {
     "name": "stderr",
     "output_type": "stream",
     "text": [
      "WARNING:tensorflow:Variable += will be deprecated. Use variable.assign_add if you want assignment to the variable value or 'x = x + y' if you want a new python Tensor object.\n",
      "100%|██████████| 50/50 [00:02<00:00, 21.08epoch/s]\n"
     ]
    }
   ],
   "source": [
    "model = TFFMRegressor(\n",
    "    order=3,\n",
    "    rank=7,\n",
    "    optimizer=tf.train.AdamOptimizer(learning_rate=0.1),\n",
    "    n_epochs=50,\n",
    "    batch_size=-1,\n",
    "    init_std=0.001,\n",
    "    input_type='sparse'\n",
    ")\n",
    "\n",
    "model.fit(X_tr_sparse, y_tr, show_progress=True)"
   ]
  },
  {
   "cell_type": "markdown",
   "metadata": {},
   "source": [
    "## Get predictions"
   ]
  },
  {
   "cell_type": "code",
   "execution_count": 12,
   "metadata": {},
   "outputs": [],
   "source": [
    "predictions = model.predict(X_te_sparse)\n",
    "model.destroy()"
   ]
  },
  {
   "cell_type": "markdown",
   "metadata": {
    "collapsed": true
   },
   "source": [
    "### Classification metrics"
   ]
  },
  {
   "cell_type": "code",
   "execution_count": 13,
   "metadata": {},
   "outputs": [
    {
     "name": "stdout",
     "output_type": "stream",
     "text": [
      "Weighted F1: 0.919082637191\n",
      "Accuracy: 0.936\n",
      "Weighted ROC: 0.591242575703\n",
      "Classification report:              precision    recall  f1-score   support\n",
      "\n",
      "        0.0       0.94      0.99      0.97      9294\n",
      "        1.0       0.66      0.19      0.30       706\n",
      "\n",
      "avg / total       0.92      0.94      0.92     10000\n",
      "\n",
      "predictions     0    1\n",
      "actuals               \n",
      "0.0          9226   68\n",
      "1.0           572  134\n"
     ]
    }
   ],
   "source": [
    "from sklearn.metrics import f1_score, accuracy_score, roc_auc_score, average_precision_score\n",
    "from sklearn.metrics import classification_report, confusion_matrix, precision_recall_curve\n",
    "from sklearn.metrics import precision_score, precision_recall_fscore_support, recall_score\n",
    "predvec = np.where(predictions > 0.5, 1, 0)\n",
    "print('Weighted F1: {}'.format(f1_score(y_te, predvec,average='weighted')))\n",
    "print('Accuracy: {}'.format(accuracy_score(y_te, predvec)))\n",
    "print('Weighted ROC: {}'.format(roc_auc_score(y_te, predvec, average='weighted')))\n",
    "print('Classification report: {}'.format(classification_report(y_te, predvec)))\n",
    "print(pd.crosstab(np.array(y_te), predvec, rownames=['actuals'], colnames=['predictions']))"
   ]
  },
  {
   "cell_type": "markdown",
   "metadata": {},
   "source": [
    "## Save headers to S3"
   ]
  },
  {
   "cell_type": "code",
   "execution_count": 14,
   "metadata": {},
   "outputs": [],
   "source": [
    "headers = list(transformed_data.columns.values)\n",
    "with open('headers-small.csv', 'w') as csvfile:\n",
    "    hwriter = csv.writer(csvfile, delimiter=' ',\n",
    "                                quotechar='|', quoting=csv.QUOTE_MINIMAL)\n",
    "    for h in headers:\n",
    "        hwriter.writerow([h])\n",
    "boto3.resource('s3').Bucket(bucket).Object('train-small/headers.csv').upload_file('headers-small.csv')"
   ]
  },
  {
   "cell_type": "markdown",
   "metadata": {
    "collapsed": true
   },
   "source": [
    "## Get most popular offer IDs\n",
    "\n",
    "### Offer ID distribution¶\n",
    "\n",
    "We'll start by identifying the unique offer codes. There are over 2 million of them."
   ]
  },
  {
   "cell_type": "code",
   "execution_count": 15,
   "metadata": {},
   "outputs": [
    {
     "data": {
      "text/plain": [
       "(2158859,)"
      ]
     },
     "execution_count": 15,
     "metadata": {},
     "output_type": "execute_result"
    }
   ],
   "source": [
    "unique_offers = train_df.offerid.unique()\n",
    "unique_offers.shape"
   ]
  },
  {
   "cell_type": "markdown",
   "metadata": {},
   "source": [
    "Let's look at the distribution of the offers. How many of the offer codes are frequently used? When we look at the 'max' value below, note that it is substantially higher than the 75th or even the 99th percentile."
   ]
  },
  {
   "cell_type": "code",
   "execution_count": 16,
   "metadata": {},
   "outputs": [
    {
     "data": {
      "text/plain": [
       "count    2.158859e+06\n",
       "mean     7.339394e+00\n",
       "std      1.577933e+02\n",
       "min      1.000000e+00\n",
       "25%      1.000000e+00\n",
       "50%      2.000000e+00\n",
       "75%      5.000000e+00\n",
       "max      5.964200e+04\n",
       "Name: offerid, dtype: float64"
      ]
     },
     "execution_count": 16,
     "metadata": {},
     "output_type": "execute_result"
    }
   ],
   "source": [
    "unique_counts = train_df.offerid.value_counts()\n",
    "unique_counts.describe()"
   ]
  },
  {
   "cell_type": "code",
   "execution_count": 17,
   "metadata": {},
   "outputs": [
    {
     "data": {
      "text/plain": [
       "69.0"
      ]
     },
     "execution_count": 17,
     "metadata": {},
     "output_type": "execute_result"
    }
   ],
   "source": [
    "unique_counts.quantile(0.99)"
   ]
  },
  {
   "cell_type": "markdown",
   "metadata": {},
   "source": [
    "Now note that the skew is large and positive, indicating that the distribution is skewed to the right. The kurtosis is also quite large, indicating a sharp peak."
   ]
  },
  {
   "cell_type": "code",
   "execution_count": 18,
   "metadata": {},
   "outputs": [
    {
     "data": {
      "text/plain": [
       "277.4027482180016"
      ]
     },
     "execution_count": 18,
     "metadata": {},
     "output_type": "execute_result"
    }
   ],
   "source": [
    "unique_counts.skew()"
   ]
  },
  {
   "cell_type": "code",
   "execution_count": 20,
   "metadata": {},
   "outputs": [
    {
     "data": {
      "text/plain": [
       "86665.7693310115"
      ]
     },
     "execution_count": 20,
     "metadata": {},
     "output_type": "execute_result"
    }
   ],
   "source": [
    "unique_counts.kurtosis()"
   ]
  },
  {
   "cell_type": "code",
   "execution_count": 21,
   "metadata": {},
   "outputs": [
    {
     "data": {
      "text/plain": [
       "0f2fcf95319f5c1e5745371351f521e5    59642\n",
       "19754ec121b3a99fff3967646942de67    58132\n",
       "60253e351dee27e77cd50366585517a3    57969\n",
       "5e378677ca9bb41114562e84001c8516    57940\n",
       "be83df9772ec47fd210b28091138ff11    57898\n",
       "3735290a415dc236bacd7ed3aa03b2d5    55554\n",
       "a5fc37404646ac3d34118489cdbfb341    51790\n",
       "3c9af92d575a330167fb61dda93b5783    50633\n",
       "c5f63750c2b5b0166e55511ee878b7a3    46795\n",
       "241145334525b9b067b15de4fd7a0df1    43875\n",
       "0c2c89e5fe431aae53fb1ae058770fa2    42495\n",
       "5ac4398e4d8ad4167a57b43e9c724b18    42415\n",
       "eb0389774fca117ee06c5c02a6ba76af    42121\n",
       "ccbdecfb71d4a0a7e836a4a4b1e69c97    41406\n",
       "fe8efbbd8879b615478cf7314b3b87ba    41296\n",
       "0576e74e809b3b6f04db1fd98c8c9afb    35437\n",
       "ebb77a97cfdfd01c8b2f5cbffb1d5627    34877\n",
       "6b989e6ea6d423160c8b30beb8240946    34628\n",
       "72d34a12b35de79a46de4fa2298a349b    33650\n",
       "56691dbb7196e6114c95306094239118    31690\n",
       "Name: offerid, dtype: int64"
      ]
     },
     "execution_count": 21,
     "metadata": {},
     "output_type": "execute_result"
    }
   ],
   "source": [
    "unique_counts.head(20)"
   ]
  },
  {
   "cell_type": "markdown",
   "metadata": {},
   "source": [
    "### Interpretation\n",
    "\n",
    "We conclude that the offer ID counts are weighted very heavily towards only a relative few of the offer IDs, producing a distribution that is very heavy near the origin with a long tail. (Keep in mind that the offer counts are in descending order.)\n",
    "\n",
    "Let's see what a sample of 50 of the most common offers looks like.\n"
   ]
  },
  {
   "cell_type": "code",
   "execution_count": 22,
   "metadata": {},
   "outputs": [
    {
     "data": {
      "text/plain": [
       "0.08321852640220712"
      ]
     },
     "execution_count": 22,
     "metadata": {},
     "output_type": "execute_result"
    }
   ],
   "source": [
    "# Generate rolling total of first 'N' elements\n",
    "cumulative_unique_counts = unique_counts.head(50).expanding().apply(sum)\n",
    "\n",
    "# Divide the rolling totals by the total sample count\n",
    "pct_of_total = cumulative_unique_counts.div(unique_counts.sum())\n",
    "\n",
    "# The maximum (last) value shows how much of the total count we've incorporated with only 50 offer IDs.  \n",
    "max(pct_of_total)\n"
   ]
  },
  {
   "cell_type": "markdown",
   "metadata": {},
   "source": [
    "Ok - 50 offers (or about 0.0025% of the total offers) accounts for over 8% of the data set. Let's visualize about 200 offers and double check the distribution."
   ]
  },
  {
   "cell_type": "code",
   "execution_count": 24,
   "metadata": {},
   "outputs": [
    {
     "data": {
      "text/plain": [
       "<matplotlib.axes._subplots.AxesSubplot at 0x7fb4788f9dd0>"
      ]
     },
     "execution_count": 24,
     "metadata": {},
     "output_type": "execute_result"
    },
    {
     "data": {
      "image/png": "[encoded data removed]",
      "text/plain": [
       "<matplotlib.figure.Figure at 0x7fb4788f9850>"
      ]
     },
     "metadata": {},
     "output_type": "display_data"
    }
   ],
   "source": [
    "import matplotlib.pyplot as plt\n",
    "interesting_counts = unique_counts.head(200)\n",
    "interesting_counts.plot(xticks=range(0,interesting_counts.shape[0],10), rot=90, use_index=False,\n",
    "                       title='Top 200 most frequent offers')"
   ]
  },
  {
   "cell_type": "markdown",
   "metadata": {},
   "source": [
    "Indeed, the there is a sharp dropoff somewhere in the 30-50 index."
   ]
  },
  {
   "cell_type": "code",
   "execution_count": null,
   "metadata": {},
   "outputs": [],
   "source": []
  }
 ],
 "metadata": {
  "kernelspec": {
   "display_name": "conda_python2",
   "language": "python",
   "name": "conda_python2"
  },
  "language_info": {
   "codemirror_mode": {
    "name": "ipython",
    "version": 2
   },
   "file_extension": ".py",
   "mimetype": "text/x-python",
   "name": "python",
   "nbconvert_exporter": "python",
   "pygments_lexer": "ipython2",
   "version": "2.7.14"
  }
 },
 "nbformat": 4,
 "nbformat_minor": 2
}
